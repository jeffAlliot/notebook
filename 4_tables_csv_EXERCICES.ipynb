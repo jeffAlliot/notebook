{
 "cells": [
  {
   "cell_type": "markdown",
   "metadata": {},
   "source": [
    "# <center>**TABLES DE DONNEES ET FORMAT CSV - EXERCICES**</center>"
   ]
  },
  {
   "cell_type": "markdown",
   "metadata": {},
   "source": [
    "**EXERCICE 3** :\n",
    "Le Titanic appareille de Southampton (Angleterre) le mercredi 10 avril à 12 h 15 .  \n",
    "Six heures plus tard, à 18 h 15, il fait escale dans la rade de Cherbourg. Il y débarque 24 passagers et en embarque 274, amenés par les transbordeurs Nomadic et Traffic. Il appareille à 20 h 10.  \n",
    "Le Titanic fait route vers l'Irlande. Il arrive à Queenstown (aujourdhui Cobh) le 11 avril à 11 h 30. Il débarque 7 passagers et en embarque 120. À 13 h 30, le paquebot appareille et entame sa traversée de l'Atlantique vers New-York.  \n",
    "Le 14 avril, à 23 h 40 (heure locale, GMT-3), il percute un iceberg au large de Terre-Neuve. Il sombre le 15 avril à 2 h 20  \n",
    "Le fichier qui contient la base de données du Titanic s'appelle titanic.csv\n",
    "\n",
    "Compléter le code suivant pour :  \n",
    "1) ouvrir le fichier titanic.csv, le transformer en liste, donner le nombre de ligne du fichier, afficher les 20 premières lignes  \n",
    "2) parcourir toutes les lignes, pour compter le nombre de survivants.  \n",
    "3) parcourir toutes les lignes, pour compter le nombre de survivants par classe (1,2 ou 3) avec 3 compteurs. En déduire le pourcentage de survivants par classe  \n",
    "4) parcourir toutes les lignes, pour compter le nombre de survivants qui ont embarqué à Cherbourg  \n"
   ]
  },
  {
   "cell_type": "code",
   "execution_count": null,
   "metadata": {},
   "outputs": [],
   "source": [
    "import csv                                      # import du module (ou bilibothèque) csv\n",
    "\n",
    "def lire_fichier_csv(nom_fichier):\n",
    "    \"\"\"ouvre un fichier csv et le transforme en liste python\"\"\"\n",
    "    with open(nom_fichier, \"r\", encoding=\"utf-8\") as fichier_notes:\n",
    "        notes_iterateur = csv.reader(fichier_notes)\n",
    "        return [ligne for ligne in notes_iterateur]\n",
    "    \n",
    "#ouvrir et lire le fichier titanic.csv\n",
    "\n",
    "#nombre de survivants\n",
    "\n",
    "\n",
    "#nombre de survivants par classe\n",
    "def nbre_survivants_classe(table:list,numero:int)->int:\n",
    "    \"\"\"renvoie le nombre de survivants pour la classe choisie\n",
    "    numéro prend les valeurs 1,2 ou 3\"\"\"\n",
    "    pass\n",
    "\n",
    "#nombre de survivants embarqués à Cherbourg\n",
    "\n",
    "\n",
    "    "
   ]
  },
  {
   "cell_type": "markdown",
   "metadata": {},
   "source": [
    "**EXERCICE 2** :  \n",
    "Grâce au fichier Prenoms2003.csv chercher le prénom le plus courant en 2003"
   ]
  },
  {
   "cell_type": "code",
   "execution_count": 1,
   "metadata": {},
   "outputs": [],
   "source": [
    "#ouvrir et lire le fichier Prenoms2003.csv\n",
    "\n",
    "#afficher les 20 premières lignes\n",
    "\n",
    "#on va utiliser l'algorithme dit du \"maximum\" qui permet de renvoyer le plus grand nombre d'une liste\n"
   ]
  },
  {
   "cell_type": "markdown",
   "metadata": {},
   "source": [
    "**EXERCICE 1** :  \n",
    "Etude d’un fichier CSV :   Bon_de_commande.csv  \n",
    "\n",
    "Ref       |Designation          |Prix     |Quantité        \n",
    "----------|---------------------|---------|----------\n",
    "82567     |Lot de crayon HB     |      2.1|        1\n",
    "73165     |Stylo rouge          |      1.6|        3\n",
    "64753     |Cahier petis carreaux|      3.2|        2\n",
    "\n",
    "Le tableau ci-dessus vous présente le fichier.  \n",
    "1) Lire le fichier Bon_de_commande.csv et l'affiche entièrement \n",
    "2) Compléter les fonctions demandées"
   ]
  },
  {
   "cell_type": "code",
   "execution_count": null,
   "metadata": {},
   "outputs": [],
   "source": [
    "#ouvrir et lire le fichier Bon_de_commande.csv\n",
    "\n",
    "#fonctions\n",
    "def stats_csv(table:list)->tuple:\n",
    "    \"\"\"renvoie le nombre de lignes et de colonnes de la table\"\"\"\n",
    "    pass\n",
    "\n",
    "def verfie_quantite(table:list)->bool :\n",
    "    \"\"\"renvoie True si toutes les quantitités de la table sont positives\"\"\"\n",
    "    pass\n",
    "\n",
    "def purge_commande(table:list)->list:\n",
    "    \"\"\"renvoie une nouvelle table où sont enlevées les lignes où les quantité ou les prix sont négatifs\"\"\"\n",
    "    table_purge = []\n",
    "    pass\n",
    "\n",
    "def nombre_produit(table:list)->int:\n",
    "    \"\"\"renvoie le nombre total de produit du bon de commande\n",
    "    on utilise un algorithme de somme \"\"\"\n",
    "    pass\n",
    "\n",
    "def prix(table:list)->float :\n",
    "    \"\"\"renvoie le prix total du bon de commande\"\"\"\n",
    "    pass\n"
   ]
  },
  {
   "cell_type": "markdown",
   "metadata": {},
   "source": [
    "Il est possible qu'il y ait des erreurs dans les prix du bon de commande. Pour cela on possède un fichier csv qui s'appelle reference.csv et qui répertorie toutes les bons prix des articles grâce à leur référence.  \n",
    "Lire le fichier references.csv et l'utiliser pour corriger le bon de commande si besoin, puis afficher le vrai prix total du bon de commande.  "
   ]
  },
  {
   "cell_type": "code",
   "execution_count": null,
   "metadata": {},
   "outputs": [],
   "source": [
    "#ouvrir et lire le fichier reference.csv\n",
    "\n",
    "#corriger le bon de commande ligne par ligne \n",
    "\n",
    "#donner le vrai prix total\n"
   ]
  }
 ],
 "metadata": {
  "celltoolbar": "Format de la Cellule Texte Brut",
  "kernelspec": {
   "display_name": "Python 3",
   "language": "python",
   "name": "python3"
  },
  "language_info": {
   "codemirror_mode": {
    "name": "ipython",
    "version": 3
   },
   "file_extension": ".py",
   "mimetype": "text/x-python",
   "name": "python",
   "nbconvert_exporter": "python",
   "pygments_lexer": "ipython3",
   "version": "3.7.3"
  }
 },
 "nbformat": 4,
 "nbformat_minor": 2
}

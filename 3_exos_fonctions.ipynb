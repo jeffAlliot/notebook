{
 "cells": [
  {
   "cell_type": "markdown",
   "metadata": {},
   "source": [
    "## Notebook : les fonctions"
   ]
  },
  {
   "cell_type": "markdown",
   "metadata": {},
   "source": [
    "**Exercice 1 :** Les fonctions suivantes ont toutes des erreurs, de syntaxe, d'indentation, de type de variable ou de résultats attendus.  \n",
    "A vous de les corriger pour qu'elles fonctionnent"
   ]
  },
  {
   "cell_type": "code",
   "execution_count": null,
   "metadata": {},
   "outputs": [],
   "source": [
    "#fonction 1\n",
    "def fois(n:int):\n",
    "    \"\"\"fonction qui affiche le double d'un entier\"\"\"\n",
    "print(2*n)\n",
    "\n",
    "fois(5)"
   ]
  },
  {
   "cell_type": "code",
   "execution_count": null,
   "metadata": {},
   "outputs": [],
   "source": [
    "#fonction 2\n",
    "def fois(n:int)->int:\n",
    "    \"\"\"fonction qui RETOURNE le double d'un entier\"\"\"\n",
    "    print(2*n)\n",
    "\n",
    "print(fois(5))"
   ]
  },
  {
   "cell_type": "code",
   "execution_count": null,
   "metadata": {},
   "outputs": [],
   "source": [
    "#fonction 3\n",
    "def cube(n:float)->float:\n",
    "    \"\"\"retourne le cube de x\"\"\"\n",
    "    return x**3\n",
    "\n",
    "cube(5)"
   ]
  },
  {
   "cell_type": "code",
   "execution_count": null,
   "metadata": {},
   "outputs": [],
   "source": [
    "#fonction 4\n",
    "def carre(t:float)->float:\n",
    "    \"\"\"n retourne le carre de t\n",
    "    return t**2\n",
    "\n",
    "assert carre(5)==10"
   ]
  },
  {
   "cell_type": "code",
   "execution_count": null,
   "metadata": {},
   "outputs": [],
   "source": []
  },
  {
   "cell_type": "markdown",
   "metadata": {},
   "source": [
    "**Exercice 2 :** Ecrire une fonction \"suivant\" qui prend un entier et renvoie le suivant"
   ]
  },
  {
   "cell_type": "code",
   "execution_count": null,
   "metadata": {},
   "outputs": [],
   "source": [
    "def suivant(n:int)->int:\n",
    "    \"\"\"retourne l'entier suivant de n\"\"\"\n",
    "    ....\n",
    "    \n",
    "assert suivant(7)==8\n",
    "assert suivant(5)==6\n",
    "assert suivant(100)==101"
   ]
  },
  {
   "cell_type": "markdown",
   "metadata": {},
   "source": [
    "**Exercice 3** : Voici une fonction à écrire en python  \n",
    "\n",
    "fonction comptage(phrase,lettre) :  \n",
    "  affecter à i la valeur 0  \n",
    "  pour tout elément de la phrase :  (en python for elt in phrase)\n",
    "    si l'élément est identique à lettre :\n",
    "      incréménter i de 1  \n",
    "    fin si  \n",
    "  fin pour  \n",
    "  retourner i  \n",
    "  \n",
    "Ne pas oublier la spécification de la fonction  \n",
    "Tester cette fonction avec l'appel comptage(\"vive l'informatique\",\"e\")\n"
   ]
  },
  {
   "cell_type": "code",
   "execution_count": null,
   "metadata": {},
   "outputs": [],
   "source": [
    "#votre code pour def comptage(phrase,lettre)\n"
   ]
  },
  {
   "cell_type": "markdown",
   "metadata": {},
   "source": [
    "**Exercice 4 :**\n",
    "Ecrire une fonction diviser_par(x,n) où x et n sont des entier qui renvoie True si x est divisible par n et False sinon.  \n",
    "Ne pas oublier la spécification. On utilise un if, et le modulo %  "
   ]
  },
  {
   "cell_type": "code",
   "execution_count": null,
   "metadata": {},
   "outputs": [],
   "source": [
    "#votre code pour def diviser_par(x,n)\n"
   ]
  },
  {
   "cell_type": "markdown",
   "metadata": {},
   "source": [
    "**Exercice 5 :**\n",
    "Voici une fonction écrite en langage C.  \n",
    "Sans connaitre forcément ce langage, essayer de comprendre et d'écrire cette fonction en langae Python  \n",
    "  \n",
    "int G(int a,int b)  \n",
    "{  \n",
    "int res=0;  \n",
    "res = a + b - a * b;  \n",
    "return res;  \n",
    "}"
   ]
  },
  {
   "cell_type": "code",
   "execution_count": null,
   "metadata": {},
   "outputs": [],
   "source": [
    "#votre code en  Python pour la fonction G(a,b)  \n"
   ]
  },
  {
   "cell_type": "markdown",
   "metadata": {},
   "source": [
    "**Exercice 6 :**\n",
    "Ci-dessous une fonction en Python.  \n",
    "1. Ecrire la spécification  \n",
    "2. Ecrire trois assert qui donneront un résultat True"
   ]
  },
  {
   "cell_type": "code",
   "execution_count": null,
   "metadata": {},
   "outputs": [],
   "source": [
    "def puissance(x,n):\n",
    "    \"\"\" ??? \"\"\"\n",
    "    return x**n\n",
    "\n",
    "assert ...\n",
    "assert ...\n",
    "assert ...\n"
   ]
  },
  {
   "cell_type": "markdown",
   "metadata": {},
   "source": [
    "**Exercice 7 :**\n",
    "La fonction suivante utilise trois paramètres : start qui contient la valeur de départ, stop la borne supérieure exclue  et step le pas du compteur. On compte de start à stop de step en step :)  \n",
    "Par exemple  \n",
    "compteur_complet(1, 7, 2)  donne 1 3 5  \n",
    "compteur_complet(3, 20, 3)  donne 3 6 9 12 15 18  \n",
    "\n",
    "A vous de compléter le fonction pour qu'elle fonctionne. Il s'agit d'une fonction d'affichage sans return"
   ]
  },
  {
   "cell_type": "code",
   "execution_count": null,
   "metadata": {},
   "outputs": [],
   "source": [
    "def compteur_complet(start, stop, step):\n",
    "    \"\"\" ???  \"\"\"\n",
    "    i = ....   #i représente un compteur qui part de start (valeur de départ) \n",
    "    while i < .....:  #tant que i n'est pas arrivé à stop\n",
    "        print(i)\n",
    "        i = .... + .....  #i est incrémenté de step\n",
    "\n",
    "compteur_complet(1, 7, 2)\n",
    "print(\"\")\n",
    "compteur_complet(3, 20, 3)"
   ]
  },
  {
   "cell_type": "markdown",
   "metadata": {},
   "source": [
    "**Exercice 6 :**\n",
    "La fonction affiche_produit vous affiche le produit de a par b, par exemple affiche_produit(7,5) donne l'affichage :  \n",
    "7 x 5 = 35  \n",
    "L'objectif est d'utiliser cette fonction affiche_produit (a,b) dans la fonction table(a,n) qui va afficher la table de multiplication de a jusqu'à a x n. Pour vous aider le programme table de multiplication a été fait en début d'année.\n"
   ]
  },
  {
   "cell_type": "code",
   "execution_count": null,
   "metadata": {},
   "outputs": [],
   "source": [
    "def affiche_produit(a,b):\n",
    "    \"\"\"cette fonction affiche joliement le produit de a par b\n",
    "    a -> int\n",
    "    b -> int \n",
    "    resultat -> affichage \"\"\"\n",
    "    print(str(a)+\" x \"+str(b)+\" = \"+str(a*b))\n",
    "    \n",
    "def table(a,n):\n",
    "    \"\"\"affiche la table de multiplication de l'entier a jusqu'à axn \n",
    "    a -> int\n",
    "    n -> int\n",
    "    resultat -> affichage\"\"\"\n",
    "    "
   ]
  },
  {
   "cell_type": "code",
   "execution_count": null,
   "metadata": {},
   "outputs": [],
   "source": []
  }
 ],
 "metadata": {
  "kernelspec": {
   "display_name": "Python 3",
   "language": "python",
   "name": "python3"
  },
  "language_info": {
   "codemirror_mode": {
    "name": "ipython",
    "version": 3
   },
   "file_extension": ".py",
   "mimetype": "text/x-python",
   "name": "python",
   "nbconvert_exporter": "python",
   "pygments_lexer": "ipython3",
   "version": "3.7.3"
  }
 },
 "nbformat": 4,
 "nbformat_minor": 2
}

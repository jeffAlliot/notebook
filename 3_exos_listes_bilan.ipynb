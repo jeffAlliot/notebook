{
 "cells": [
  {
   "cell_type": "markdown",
   "metadata": {},
   "source": [
    "# LISTES : en route pour les TABLES"
   ]
  },
  {
   "cell_type": "markdown",
   "metadata": {},
   "source": [
    "*Voici une série d'exercices à faire sur ce notebook pour retravailler les types list afin de travailler ensuite sur les tables de données.*"
   ]
  },
  {
   "cell_type": "markdown",
   "metadata": {},
   "source": [
    "**A partir de L:**\n",
    "\n",
    "1) Ajouter la valeur 1 à chacun de ses éléments avec une boucle \"for i in range(len(L))\"  \n",
    "2) Ajouter la valeur 11,12,13 à la fin de la liste, avec append  \n",
    "3) Afficher le premier élément, les deux premiers éléments, le dernier élément, les deux derniers éléments.  \n",
    "-> print  \n",
    "4) Construire la liste \"paires\" qui contient les nombres paires de L et la liste \"impaire\" qui contient les nombres \"impaires\" de L.  \n",
    "-> boucle for et liste par compréhension  \n",
    "5) Ajouter la valeur 3.5 entre 3 et 4. (insert) \n",
    "6) Supprimer la valeur 3.5. (del)  \n",
    "7) Inverser l'ordre des éléments de L en créant une nouvelle liste L2, d'abord vide, avec une boucle \"for i in range(len(L))\"  \n",
    "A l'envers les éléments d'une liste sont numérotées par des nombres négatifs. On ajoute dans L2 un par un les éléments de L en les lisant à l'envers.\n",
    "8) Demander à l'utilisateur de fournir un nombre au hasard et dire si ce nombre est présent dans L. (import random)  "
   ]
  },
  {
   "cell_type": "code",
   "execution_count": 3,
   "metadata": {},
   "outputs": [
    {
     "ename": "SyntaxError",
     "evalue": "invalid syntax (<ipython-input-3-781d646cf96f>, line 15)",
     "output_type": "error",
     "traceback": [
      "\u001b[1;36m  File \u001b[1;32m\"<ipython-input-3-781d646cf96f>\"\u001b[1;36m, line \u001b[1;32m15\u001b[0m\n\u001b[1;33m    impaire=\u001b[0m\n\u001b[1;37m            ^\u001b[0m\n\u001b[1;31mSyntaxError\u001b[0m\u001b[1;31m:\u001b[0m invalid syntax\n"
     ]
    }
   ],
   "source": [
    "L = [0, 1, 2, 3, 4, 5, 6, 7, 8, 9]\n",
    "#question1\n",
    "for i in range(len(L)):\n",
    "    L[i] =  ...\n",
    "print(L)\n",
    "#question2\n",
    "L.append(11)\n",
    "...\n",
    "...\n",
    "print(L) \n",
    "#question3\n",
    "...\n",
    "#question4\n",
    "paire = [elt for elt in L if ...]\n",
    "impaire = \n",
    "print(paire)\n",
    "print(impaire)\n",
    "#question5\n",
    "L.insert(...)\n",
    "print(L)\n",
    "#question6\n",
    "del L[...]\n",
    "print(L)\n",
    "#question7\n",
    "L2 = ...\n",
    "for i in range(len(L)):\n",
    "    L2.append(L[...])\n",
    "print(L2)    \n",
    "#question8\n",
    "import ...\n",
    "nombre = ...\n",
    "if nombre in ......\n"
   ]
  },
  {
   "cell_type": "markdown",
   "metadata": {},
   "source": [
    "*Donner une définition de la *fonction liste_mult* qui, étant donné une liste L d’entiers et un  \n",
    "entier k, retourne la liste obtenue en multipliant par k tous les éléments de L.*  \n",
    "Par exemple :  \n",
    "print(list_mult(\\[3, 5, 9, 4\\], 2))  \n",
    "\\[6, 10, 18, 8\\]  \n",
    "print(list_mult(\\[\\], 2))  \n",
    "\\[\\]  \n",
    "Faire un test avec un assert\n",
    "\n",
    "Refaire lemême exercice mais avec une compréhension de listes (ce sera la fonction *fonction liste_mult2* )"
   ]
  },
  {
   "cell_type": "code",
   "execution_count": 1,
   "metadata": {},
   "outputs": [],
   "source": [
    "def list_mult(L:list,k:int)->list:\n",
    "    \"\"\"retourne la liste obtenue en multipliant par k tous les éléments de L\"\"\"\n",
    "    L1 = []\n",
    "    #je parcours tous les éléments de la liste L\n",
    "    for elt in ... :\n",
    "        L1.append(...)  #il faut multiplier les éléments par k\n",
    "    return(L1)\n",
    "    \n",
    "print(list_mult([3, 5, 9, 4], 2))\n",
    "assert ...\n",
    "\n",
    "def list_mult2(L:list,k:int)->list:\n",
    "    \"\"\"retourne la liste obtenue en multipliant par k tous les éléments de L\n",
    "    on utilise ici une compréhension de listes\"\"\"\n",
    "    L1 = [x ............  for .........]\n",
    "    return(L1)\n",
    "    \n",
    "assert (list_mult2([3, 5, 9, 4], 5))==[15,25,45,20]\n"
   ]
  },
  {
   "cell_type": "markdown",
   "metadata": {},
   "source": [
    "*Compréhension de liste*  \n",
    "Soit la liste L =\\[0, 1, 2, 3, 4, 5, 6, 7, 8, 9, 10, 11, 12, 13, 14, 15 ,16, 17, 18, 19, 20\\]  \n",
    "\n",
    "En utilisant une compréhension, déterminer les listes suivantes :   \n",
    "L1 contient les doubles des éléments de L  \n",
    "L2 contient les éléments de L qui sont entre 10 et 30  \n",
    "L3 contient les couples (x,y) où x est un élements de L et y est égale à 0 si x est pair, 1 si x est impair"
   ]
  },
  {
   "cell_type": "code",
   "execution_count": 3,
   "metadata": {},
   "outputs": [],
   "source": [
    "L = [0, 1, 2, 3, 4, 5, 6, 7, 8, 9, 10, 11, 12, 13, 14, 15 ,16, 17, 18, 19, 20] \n",
    "L1 = ...\n",
    "L2 = ...\n",
    "L3 = ..."
   ]
  },
  {
   "cell_type": "markdown",
   "metadata": {},
   "source": [
    "*List de List : matrice PAC-MAN*  \n",
    "Pacourir tous les éléments de la matrice M et si l'élément de la matrice est un     \n",
    "1 afficher * (étoile)  \n",
    "0 afficher  (espace)  \n",
    "2 afficher . (point)  \n",
    "3 afficher O (o majuscule)  \n",
    "L'affichage doit de faire ligne par ligne comme pour la matrice  \n",
    "On utilise une double boucle :   \n",
    "\"for i in range ....  \n",
    "    for j in range ...\"  \n",
    "-> print(...,end=\"\") si on ne souhaite pas sauter de ligne lors de l'affichage  \n",
    "-> arrivé au bout d'une ligne on saute une ligne, print(\"\")      "
   ]
  },
  {
   "cell_type": "code",
   "execution_count": null,
   "metadata": {},
   "outputs": [],
   "source": [
    "L1 = [0,0,1,1,1,1,1,1,0,0,0,0,0,1,1,1,1,1,1,0,0,0,0,0,1,1,1,1,1,1,0,0]\n",
    "L2 = [0,1,0,0,0,0,0,0,1,0,0,0,1,0,0,0,0,0,0,1,0,0,0,1,0,0,0,0,0,0,1,0]\n",
    "L3 = [1,0,0,3,0,0,3,0,0,1,0,1,0,0,3,0,0,3,0,0,1,0,1,0,0,3,0,0,3,0,0,1]\n",
    "L4 = [1,0,0,0,0,0,0,0,0,1,0,1,0,0,0,0,0,0,0,0,1,0,1,0,0,0,0,0,0,0,0,1]\n",
    "L5 = [1,0,0,2,2,2,2,0,0,1,0,1,0,0,2,0,0,2,0,0,1,0,1,0,0,2,2,2,2,0,0,1]\n",
    "L6 = [1,0,0,2,2,2,2,0,0,1,0,1,0,0,2,2,2,2,0,0,1,0,1,0,0,2,0,0,2,0,0,1]\n",
    "L7 = [1,0,0,0,0,0,0,0,0,1,0,1,0,0,0,0,0,0,0,0,1,0,1,0,0,0,0,0,0,0,0,1]\n",
    "L8 = [1,1,1,1,1,1,1,1,1,1,0,1,1,1,1,1,1,1,1,1,1,0,1,1,1,1,1,1,1,1,1,1]\n",
    "M = [L1,L2,L3,L4,L5,L6,L7,L8]\n",
    "for i in range(...) :\n",
    "    for j in range(...) : \n",
    "        if M[...][...] == 1 :\n",
    "            print(\"*\",end = \"\")\n",
    "        #etc ...\n",
    "        \n",
    "    #reste à sauter une ligne à la fin de chaque ligne cad si j est \"au bout de la ligne\""
   ]
  }
 ],
 "metadata": {
  "kernelspec": {
   "display_name": "Python 3",
   "language": "python",
   "name": "python3"
  },
  "language_info": {
   "codemirror_mode": {
    "name": "ipython",
    "version": 3
   },
   "file_extension": ".py",
   "mimetype": "text/x-python",
   "name": "python",
   "nbconvert_exporter": "python",
   "pygments_lexer": "ipython3",
   "version": "3.7.3"
  }
 },
 "nbformat": 4,
 "nbformat_minor": 2
}

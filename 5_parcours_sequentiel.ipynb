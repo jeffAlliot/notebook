{
 "cells": [
  {
   "cell_type": "markdown",
   "metadata": {},
   "source": [
    "On va parcourir des tableaux éléments par éléments : c'est un parcours dit **SEQUENTIEL.**    \n",
    "On va étudier deux problèmes : la recherche d'une valeur dans un tableau et le calcul du maximum puis revoir le calcul d'une moyenne des éléments d'un tableau.  \n"
   ]
  },
  {
   "cell_type": "markdown",
   "metadata": {},
   "source": [
    "**Un premier algorithme à écrire en PYTHON  :**  \n",
    "  \n",
    "Fonction Recherche_Occurence(T,x) :  \n",
    "T est une liste et x un élément   \n",
    "*Sortie* : vrai si x est dans le tableau, faux sinon  \n",
    "\n",
    "***Pour* i prenant toutes les valeurs des index du tableau faire :  \n",
    "*si* T\\[i\\]==x alors retourner vrai  \n",
    "*Fin si*  \n",
    "*Fin pour*  \n",
    "Retourner faux**  \n"
   ]
  },
  {
   "cell_type": "code",
   "execution_count": null,
   "metadata": {},
   "outputs": [],
   "source": [
    "#votre code\n",
    "def Recherche_Occurence(T:list,x)->bool:\n",
    "    pass\n",
    "#test avec assert\n"
   ]
  },
  {
   "cell_type": "markdown",
   "metadata": {},
   "source": [
    "**Un deuxième algorithme à écrire en PYTHON  :**  \n",
    "  \n",
    "Fonction Maximum(T) :  \n",
    "T est un tableau de nombres  \n",
    "*Sortie* : la plus grande valeurdu tableau  \n",
    "\n",
    "**maxi = la première valeur du tableau  \n",
    "*Pour* i prenant toutes les valeurs des index du tableau faire :  \n",
    "*si* T\\[i\\] > maxi alors maxi = T\\[i\\]     \n",
    "*Fin si*  \n",
    "*Fin pour*  \n",
    "Retourner maxi** "
   ]
  },
  {
   "cell_type": "code",
   "execution_count": null,
   "metadata": {},
   "outputs": [],
   "source": [
    "#votre code\n",
    "def maximum(T:list):\n",
    "    pass\n",
    "#test avec assert\n"
   ]
  },
  {
   "cell_type": "code",
   "execution_count": null,
   "metadata": {},
   "outputs": [],
   "source": [
    "#Un autre exemple déjà rencontré de parcours séquentiel\n",
    "def moyenne(liste:list)->float:\n",
    "    \"\"\"retourne la moyenne des éléments de la liste\"\"\"\n",
    "    somme = 0\n",
    "    for i in range(len(liste)):\n",
    "        somme = somme + liste[i]\n",
    "    return(somme/len(liste))\n",
    "\n",
    "#ecrire un assert pour tester"
   ]
  },
  {
   "cell_type": "markdown",
   "metadata": {},
   "source": [
    "La complexité de ces algorithmes est **O(n)** car il faut parcourir les n éléments du tableau un par un, on a donc n opérations informatiques à effectuer (une pour chaque élément)"
   ]
  },
  {
   "cell_type": "markdown",
   "metadata": {},
   "source": [
    "**Exercice 1** : Ecrire la fonction Minimum(T) qui renvoie le plus petit élément d'un tableau de nombre"
   ]
  },
  {
   "cell_type": "code",
   "execution_count": null,
   "metadata": {},
   "outputs": [],
   "source": [
    "#votre code\n",
    "def minimum(T:list):\n",
    "    pass\n",
    "#test avec assert"
   ]
  },
  {
   "cell_type": "markdown",
   "metadata": {},
   "source": [
    "**Exercice 2 :** \n",
    "Ecrire la Recherche_Occurence avec une boucle while"
   ]
  },
  {
   "cell_type": "code",
   "execution_count": null,
   "metadata": {},
   "outputs": [],
   "source": [
    "#votre code"
   ]
  },
  {
   "cell_type": "markdown",
   "metadata": {},
   "source": [
    "**Exercice 3** : Ecrire une fonction qui calcule le produit des élements d'un tableau"
   ]
  },
  {
   "cell_type": "code",
   "execution_count": null,
   "metadata": {},
   "outputs": [],
   "source": [
    "#votre code"
   ]
  },
  {
   "cell_type": "markdown",
   "metadata": {},
   "source": [
    "**Exercice 4** : Ecrire une fonction qui renvoie l'**indice** du premier élément du tableau égal à une valeur donnée x ou retourne faux."
   ]
  },
  {
   "cell_type": "code",
   "execution_count": null,
   "metadata": {},
   "outputs": [],
   "source": [
    "#votre code"
   ]
  },
  {
   "cell_type": "markdown",
   "metadata": {},
   "source": [
    "**Exercice 5** : Ecrire une fonction qui renvoie la longueur de la plus grande suite de '1' dans un liste contenant exclusivement des '0' et des '1'  \n",
    "Pour cela on utilise l'algorithme suivant :  \n",
    "  \n",
    "**maxLongueur = 0  \n",
    "Longueur_en_cours = 0  \n",
    "liste = une liste de '0' et de '1'  \n",
    "*Pour* i prenant toutes les valeurs des index du tableau faire :  \n",
    "*si* liste\\[i\\] = 0 alors Longueur_en_cours = 0  \n",
    "*sinon* Longueur_en_cours = Longueur_en_cours + 1  \n",
    "*fin si*  \n",
    "*si* Longueur_en_cours > maxLongueur alors maxLongueur = Longueur_en_cours  \n",
    "*fin si*  \n",
    "*fin pour*  \n",
    "*Retourner* maxlongeur**\n"
   ]
  },
  {
   "cell_type": "code",
   "execution_count": null,
   "metadata": {},
   "outputs": [],
   "source": [
    "#votre code\n",
    "\n",
    "#listes tests\n",
    "liste1 = [0,1,1,0,0,0,1,1,1,1,0,1,0,1,1,1,1,1,1,0,1,1,1,1,1,0,0,1,1,1,1,1,1,1,1,1,1,0,1,0,1,1,1,1,]\n",
    "liste2 = [1,1,0,0,1]\n",
    "liste3 = []\n",
    "liste4 = [0,0,0,0,0,0,0,0,0,0,0,0,0]\n",
    "liste5 = [0,1,0,1,1,0,0,1,0,1,1,1,1,0,0,0,0,1,0,1,0,1,0,1,1,1,1,1,1,0,1,0,1,1,1,1,0,1,0,1,0,0]\n"
   ]
  },
  {
   "cell_type": "markdown",
   "metadata": {},
   "source": [
    "**Exercice 6** : Utiliser l'exercice 1 pour déterminer le plus grand mot dans une phrase sachant que les mots sont séparés par un espace.    "
   ]
  },
  {
   "cell_type": "code",
   "execution_count": null,
   "metadata": {},
   "outputs": [],
   "source": [
    "#votre code\n"
   ]
  },
  {
   "cell_type": "markdown",
   "metadata": {},
   "source": [
    "**Bonus : exercice du biais** voir le cours pour l'énoncé  \n",
    "Compléter la fonction python qui répond aux questions en ne parcourant la liste qu'une fois   "
   ]
  },
  {
   "cell_type": "code",
   "execution_count": null,
   "metadata": {},
   "outputs": [],
   "source": [
    "def biaisMinimum(genome):\n",
    "    \"\"\"affiche la valeur minimale du biais et les positions de ce minimum\n",
    "    genome est un str composé de lettres c,a,t,g \"\"\"\n",
    "    \n",
    "    biaisMin = + float(\"inf\")   #en python signifie + l'infini\n",
    "    positions = []\n",
    "    biais = 0\n",
    "    for k in range(0, len(genome)):\n",
    "        x = genome[.....]\n",
    "        if x == ..... :\n",
    "            biais = biais + 1\n",
    "        elif x == ...... ':\n",
    "            biais = biais - 1\n",
    "        if biais < ......... :\n",
    "            biaisMin = biais\n",
    "            positions = [k] #on réinitialise le tableau des positions \n",
    "        elif biais == ............:\n",
    "            positions.append(k)\n",
    "    print(\"biais minimum : \", str(..........))\n",
    "    print(\"positions : \", str(.............))\n",
    "\n",
    "#test \n",
    "biaisMinimum(\"catgggcatcggccatacgccaggggatccccttg\")"
   ]
  },
  {
   "cell_type": "code",
   "execution_count": null,
   "metadata": {},
   "outputs": [],
   "source": []
  }
 ],
 "metadata": {
  "kernelspec": {
   "display_name": "Python 3",
   "language": "python",
   "name": "python3"
  },
  "language_info": {
   "codemirror_mode": {
    "name": "ipython",
    "version": 3
   },
   "file_extension": ".py",
   "mimetype": "text/x-python",
   "name": "python",
   "nbconvert_exporter": "python",
   "pygments_lexer": "ipython3",
   "version": "3.7.3"
  }
 },
 "nbformat": 4,
 "nbformat_minor": 2
}

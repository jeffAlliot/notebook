{
 "cells": [
  {
   "cell_type": "markdown",
   "metadata": {},
   "source": [
    "# <center>**TABLES DE DONNEES ET FORMAT CSV-PARTIE 2**</center>"
   ]
  },
  {
   "cell_type": "markdown",
   "metadata": {},
   "source": [
    "Rappel des fonctions précédentes"
   ]
  },
  {
   "cell_type": "code",
   "execution_count": null,
   "metadata": {},
   "outputs": [],
   "source": [
    "import csv       # import du module (ou bilibothèque) csv\n",
    "\n",
    "def lire_fichier_csv(nom_fichier):\n",
    "    \"\"\"renvoie une table contenue dans un fichier\"\"\"\n",
    "    with open(nom_fichier, \"r\", encoding=\"utf-8\") as fichier_notes:\n",
    "        iterateur = csv.reader(fichier_notes)\n",
    "        return [ligne for ligne in iterateur]\n",
    "    \n",
    "def affiche_table(table):\n",
    "    \"\"\"Affiche une table de manière lisible\"\"\"\n",
    "    for ligne in table :\n",
    "        print(*ligne)\n",
    "\n",
    "def cherche_eleve(table, nom_eleve):\n",
    "    \"\"\"renvoie la ligne correspondant à l'élève\"\"\"\n",
    "    for ligne in table:\n",
    "        if ligne[0] == nom_eleve:\n",
    "            return(ligne)\n",
    "    return None\n",
    "\n",
    "def cherche_note_math(table, nom_eleve):\n",
    "    \"\"\"renvoie la note de math d'un eleve\"\"\"\n",
    "    for ligne in table : \n",
    "        if ligne[0]==nom_eleve :\n",
    "            return(ligne[2])\n",
    "\n",
    "def change_prenom(table, nom_eleve, nouveau_prenom):\n",
    "    \"\"\"met à jour le prénom d'un eleve\"\"\"\n",
    "    for ligne in table :\n",
    "        if ligne[0]==nom_eleve :\n",
    "            ligne[1] =  nouveau_prenom\n",
    "\n",
    "def augmente_un_note_math(table, nom_eleve):\n",
    "    \"\"\"Augmente de 1 point la note de math d'un eleve\"\"\"\n",
    "    for ligne in table :\n",
    "        if ligne[0]==nom_eleve :\n",
    "            ligne[2] = str(min(int(ligne[2])+1,20))       \n"
   ]
  },
  {
   "cell_type": "markdown",
   "metadata": {},
   "source": [
    "### 5) Conversion des valeurs"
   ]
  },
  {
   "cell_type": "markdown",
   "metadata": {},
   "source": [
    "Lors de l'import d'un fichier csv toutes les valeurs sont de type chaîne de caractères.\n",
    "Ces chaînes de caractères peuvent toutefois contenir une information de type entier, décimal, date, heure, booléen, couleur, ...\n",
    "Dans l'exemple ci-dessus vous avez dû convertir la chaîne en entier pour pouvoir ajouter 1.\n",
    "Pour pouvoir travailler avec notre table nous allons après le chargement de celle-ci convertir toutes les notes en entiers.\n",
    "\n",
    "Complétez la fonction convertir_ligne(ligne) qui convertit les notes d'un élève au type int.\n"
   ]
  },
  {
   "cell_type": "code",
   "execution_count": null,
   "metadata": {},
   "outputs": [],
   "source": [
    "def convertir_ligne(ligne):\n",
    "    \"\"\"Votre code\"\"\"\n",
    "\n",
    "##tests\n",
    "## rechargement de la table pour le test\n",
    "table_notes = lire_fichier_csv(\"notes_en_sciences.csv\")\n",
    "ligne_talon = cherche_eleve(table_notes, \"Talon\")\n",
    "print(\"Avant conversion pour Talon :\", ligne_talon)\n",
    "convertir_ligne(ligne_talon)\n",
    "ligne_talon = cherche_eleve(table_notes, \"Talon\")\n",
    "print(\"Après conversion pour Talon :\", ligne_talon)"
   ]
  },
  {
   "cell_type": "markdown",
   "metadata": {},
   "source": [
    "Complétez la fonction convertir_table(table) qui modifie la table en convertissant chacune de ses lignes."
   ]
  },
  {
   "cell_type": "code",
   "execution_count": null,
   "metadata": {},
   "outputs": [],
   "source": [
    "def convertir_table(table):\n",
    "    \"\"\"Votre code\"\"\"\n",
    "\n",
    "##tests\n",
    "## rechargement de la table pour le test\n",
    "table_notes = lire_fichier_csv(\"notes_en_sciences.csv\")\n",
    "print(\"Avant conversion :\\n\", table_notes)\n",
    "convertir_table(table_notes)\n",
    "print(\"Après conversion :\\n\", table_notes)"
   ]
  },
  {
   "cell_type": "markdown",
   "metadata": {},
   "source": [
    "### 6) Enregistrer un table"
   ]
  },
  {
   "cell_type": "markdown",
   "metadata": {},
   "source": [
    "Complétez la fonction enregistre(table, nom_fichier) qui enregistre la table au format csv.\n",
    "Le module csv fournit un reader pour la lecture d'un fichier csv, de la même manière il fournit un writer pour l'écriture dans un fichier. \n",
    "On pourra consulter la page suivante  : \n",
    "[module csv](https://docs.python.org/fr/3/library/csv.html) ou consulter l'aide avec un **help(csv.writer)**"
   ]
  },
  {
   "cell_type": "code",
   "execution_count": null,
   "metadata": {},
   "outputs": [],
   "source": [
    "def enregistre_fichier_csv(table, nom_fichier):\n",
    "    \"\"\"Votre code\"\"\"\n",
    "\n",
    "#tests\n",
    "table_notes = lire_fichier_csv(\"notes_en_sciences.csv\")\n",
    "print(\"Table initiale :\")\n",
    "affiche_table(table_notes)\n",
    "augmente_un_note_math(table_notes, \"Lucky\")\n",
    "change_prenom(table_notes, \"Duck\", \"Daisy\")\n",
    "enregistre_fichier_csv(table_notes,\"test_enregistrement.csv\")\n",
    "table_enregistree = lire_fichier_csv(\"test_enregistrement.csv\")\n",
    "print(\"Table enregistrée :\")\n",
    "affiche_table(table_enregistree)"
   ]
  },
  {
   "cell_type": "markdown",
   "metadata": {},
   "source": [
    "### 7) Recherche de plusieurs lignes dans la table"
   ]
  },
  {
   "cell_type": "markdown",
   "metadata": {},
   "source": [
    "Complétez la **fonction table_forts_en_physique(table)** qui renvoie la liste (éventuellement vide) des élèves qui ont la moyenne en physique.\n",
    "*Retour attendu :*  \n",
    "[['Maltese', 'Corto', 15, 14, 12], ['Talon', 'Achile', 20, 17, 6], ['Duck', 'Donald', 7, 11, 16]]"
   ]
  },
  {
   "cell_type": "code",
   "execution_count": null,
   "metadata": {},
   "outputs": [],
   "source": [
    "def table_forts_en_physique(table):\n",
    "    \"\"\"Votre code\"\"\"\n",
    "\n",
    "#test\n",
    "table_notes = lire_fichier_csv(\"notes_en_sciences.csv\")\n",
    "convertir_table(table_notes)\n",
    "print(\"Ont la moyenne en physique :\", table_forts_en_physique(table_notes))"
   ]
  },
  {
   "cell_type": "markdown",
   "metadata": {},
   "source": [
    "Complétez la fonction **table_forts_en_MP(table)** qui renvoie la liste (éventuellement vide) des élèves qui ont la moyenne à la fois en math et en physique.\n",
    "*Retour attendu :* \n",
    "[['Maltese', 'Corto', 15, 14, 12], ['Talon', 'Achile', 20, 17, 6]]"
   ]
  },
  {
   "cell_type": "code",
   "execution_count": null,
   "metadata": {},
   "outputs": [],
   "source": [
    "def table_forts_en_MP(table):\n",
    "    \"\"\"Votre code\"\"\"\n",
    "\n",
    "#test\n",
    "table_notes = lire_fichier_csv(\"notes_en_sciences.csv\")\n",
    "convertir_table(table_notes)\n",
    "print(\"Ont la moyenne en maths et en physique :\", table_forts_en_MP(table_notes))"
   ]
  },
  {
   "cell_type": "markdown",
   "metadata": {},
   "source": [
    "Complétez la fonction **table_pas_moyenne_partout(table)** qui renvoie la liste constituée uniquement des élèves qui n’ont pas la moyenne dans au moins l’une des trois disciplines.\n",
    "\n",
    "*Retour attendu :*\n",
    "[['Dalton', 'Avrel', 12, 8, 10], ['Lucky', 'luke', 12, 9, 17], ['Talon', 'Achile', 20, 17, 6], ['Duck', 'Donald', 7, 11, 16]]"
   ]
  },
  {
   "cell_type": "code",
   "execution_count": null,
   "metadata": {},
   "outputs": [],
   "source": [
    "def table_pas_moyenne_partout(table):\n",
    "    \"\"\"Votre code\"\"\"\n",
    "\n",
    "#test\n",
    "print(\"Tous les élèves :\")\n",
    "affiche_table(table_notes)\n",
    "print(\"Elèves n'ayant pas la moyenne partout :\")\n",
    "affiche_table(table_pas_moyenne_partout(table_notes))"
   ]
  },
  {
   "cell_type": "markdown",
   "metadata": {},
   "source": [
    "### 8) Trier une table suivant une colonne"
   ]
  },
  {
   "cell_type": "markdown",
   "metadata": {},
   "source": [
    "On souhaite pouvoir trier les élèves suivant une colonne.\n",
    "\n",
    "Python propose deux fonctions qui permettent de trier des listes :\n",
    "- La fonction **sorted(une_liste)** qui renvoie une copie triée dans l'ordre croissant de liste une_liste.\n",
    "- La méthode **une_liste.sort()** qui trie dans l'ordre croisssant la liste une_liste, en la modifiant. \n",
    "\n",
    "On peut passer à **sort** ou à **sorted** un argument **key=une_fonction**.\n",
    "La liste est alors triée selon les valeurs renvoyées par une_fonction quand on l'applique à chacun des éléments de la liste.\n",
    "Complétez la fonction **note_math(ligne)** qui renvoie la note de math de l'élève d'une ligne donnée et permettra ainsi\n",
    "de trier les élèves dans l'ordre croissant des notes de math."
   ]
  },
  {
   "cell_type": "code",
   "execution_count": null,
   "metadata": {},
   "outputs": [],
   "source": [
    "def note_math(ligne):\n",
    "    \"\"\"Votre code\"\"\"\n",
    "\n",
    "\n",
    "##test\n",
    "table_notes = lire_fichier_csv(\"notes_en_sciences.csv\")\n",
    "convertir_table(table_notes)\n",
    "table_notes.sort(key=note_math)\n",
    "print(\"Elèvess triés dans l'ordre croissant des notes de math :\")\n",
    "affiche_table(table_notes)"
   ]
  },
  {
   "cell_type": "markdown",
   "metadata": {},
   "source": [
    "On peut aussi trier des listes dans l'ordre décroissant en utilisant l'argument **reverse=True**.\n",
    "Ecrire un script qui affiche les élèves dans l'ordre alphabétique décroissant."
   ]
  },
  {
   "cell_type": "code",
   "execution_count": null,
   "metadata": {},
   "outputs": [],
   "source": [
    "\"\"\"Votre code\"\"\"\n"
   ]
  },
  {
   "cell_type": "markdown",
   "metadata": {},
   "source": [
    "### 9) Fusionner deux tables"
   ]
  },
  {
   "cell_type": "markdown",
   "metadata": {},
   "source": [
    "On dispose d'un second fichier \"notes_lettres.csv\" contenant les notes des élèves en Français et en Histoire.\n",
    "On souhaite pouvoir regrouper les notes dans une même table.\n",
    "Complétez la fonction **fusion(table1, table2)** qui renvoie la nouvelle table obtenue en fusionnant deux tables de notes."
   ]
  },
  {
   "cell_type": "code",
   "execution_count": null,
   "metadata": {},
   "outputs": [],
   "source": [
    "def fusionne_tables(table1, table2):\n",
    "    \"\"\"Votre code\"\"\"\n",
    "\n",
    "##test\n",
    "table_notes1 = lire_fichier_csv(\"notes_en_sciences.csv\")\n",
    "print(\"Notes en sciences :\")\n",
    "affiche_table(table_notes1)\n",
    "table_notes2 = lire_fichier_csv(\"notes_en_lettres.csv\")\n",
    "print(\"Notes en lettres :\")\n",
    "affiche_table(table_notes2)\n",
    "print(\"Fusion des deux tables :\")\n",
    "affiche_table(fusionne_tables(table_notes1, table_notes2))"
   ]
  },
  {
   "cell_type": "markdown",
   "metadata": {},
   "source": [
    "### 10) Tester si les données de la table sont valides"
   ]
  },
  {
   "cell_type": "markdown",
   "metadata": {},
   "source": [
    "Quand beaucoup de données sont saisies par différentes personnes, des erreurs peuvent se produire.\n",
    "Il faut pouvoir les détecter pour éventuellement les corriger.\n",
    "On dispose d'un autre fichier de notes \"notes_annee_precedente.csv\". Exécutez le code ci-dessous."
   ]
  },
  {
   "cell_type": "markdown",
   "metadata": {},
   "source": [
    "Il y a un problème avec la table. Affichons-la :"
   ]
  },
  {
   "cell_type": "code",
   "execution_count": null,
   "metadata": {},
   "outputs": [],
   "source": [
    "table_notes = lire_fichier_csv(\"notes_annee_precedente.csv\")\n",
    "affiche_table(table_notes)"
   ]
  },
  {
   "cell_type": "markdown",
   "metadata": {},
   "source": [
    "La table comporte des doublons. C'est un problème car si on veut modifier des valeurs pour Maltese, on risque de ne le faire que dans une seule ligne. Après plusieurs manipulations de la table, quelles valeurs ressortiront ? C'est parfois difficile à prévoir.\n",
    "Complétez la fonction **doublons(table_notes)** qui renvoie la liste des élèves apparaissant plus d'une fois dans la table.\n",
    "*Retour attendu:*\n",
    "['Maltese', 'Talon']"
   ]
  },
  {
   "cell_type": "code",
   "execution_count": null,
   "metadata": {},
   "outputs": [],
   "source": [
    "def doublons(table_notes):\n",
    "    \"\"\"Votre Code\"\"\"\n",
    "\n",
    "##tests\n",
    "table_notes = lire_fichier_csv(\"notes_annee_precedente.csv\")\n",
    "print(doublons(table_notes))"
   ]
  },
  {
   "cell_type": "markdown",
   "metadata": {},
   "source": [
    "Un autre problème peut venir aussi de notes mal saisies.\n",
    "Complétez la fonction **note_coherente(note_str)** qui renvoie True si la chaine de caractères note_str contient bien une note entière comprise au sens large entre 0 et 20."
   ]
  },
  {
   "cell_type": "code",
   "execution_count": null,
   "metadata": {},
   "outputs": [],
   "source": [
    "def note_coherente(note_str):\n",
    "    \"\"\"Votre Code\"\"\"\n",
    "\n",
    "##tests\n",
    "print(note_coherente(\"17\"))\n",
    "print(note_coherente(\"4,5\"))\n",
    "print(note_coherente(\"-2\"))\n",
    "print(note_coherente(\"18\"))\n",
    "print(note_coherente(\"1a\"))\n",
    "print(note_coherente(\"33\"))"
   ]
  },
  {
   "cell_type": "markdown",
   "metadata": {},
   "source": [
    "Complétez la fonction **notes_incoherentes(table_notes)** qui renvoie la lite des élèves de la table ayant des notes incohérentes.\n",
    "*Retour attendu:*\n",
    "[['Dalton', 'Averell', '13', '91', '11'], ['Lucky', 'luke', '7', '7', '77']]"
   ]
  },
  {
   "cell_type": "code",
   "execution_count": null,
   "metadata": {},
   "outputs": [],
   "source": [
    "def notes_incoherentes(table_notes):\n",
    "    \"\"\"Votre Code\"\"\"\n",
    "\n",
    "##tests\n",
    "table_notes = lire_fichier_csv(\"notes_annee_precedente.csv\")\n",
    "affiche_table(table_notes)\n",
    "print(notes_incoherentes(table_notes))"
   ]
  },
  {
   "cell_type": "markdown",
   "metadata": {},
   "source": [
    "Le choix du traitement à appliquer aux doublons ou aux valeurs incohérentes n'est pas une question simple. Il dépend souvent du type de données étudiées."
   ]
  }
 ],
 "metadata": {
  "celltoolbar": "Format de la Cellule Texte Brut",
  "kernelspec": {
   "display_name": "Python 3",
   "language": "python",
   "name": "python3"
  },
  "language_info": {
   "codemirror_mode": {
    "name": "ipython",
    "version": 3
   },
   "file_extension": ".py",
   "mimetype": "text/x-python",
   "name": "python",
   "nbconvert_exporter": "python",
   "pygments_lexer": "ipython3",
   "version": "3.7.4"
  }
 },
 "nbformat": 4,
 "nbformat_minor": 2
}

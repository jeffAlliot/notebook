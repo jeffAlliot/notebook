{
 "cells": [
  {
   "cell_type": "markdown",
   "metadata": {},
   "source": [
    "**Exercice 1 :**  Une variable globale est utilisée dans tout le programme, une variable locale uniquement dans une fonction et elle est détruite après utilisation.  \n",
    "On considère le script suivant : "
   ]
  },
  {
   "cell_type": "code",
   "execution_count": null,
   "metadata": {},
   "outputs": [],
   "source": [
    "#script 1\n",
    "def f(x:int,y:int)->bool :\n",
    "    \"\"\"test si en remplacant x et y par des valeurs,on obtient une égalité entre x + y et i\"\"\"\n",
    "    global i\n",
    "    z = x + y \n",
    "    if z == i : \n",
    "        h = True\n",
    "    else : \n",
    "        h = False\n",
    "    return(h)\n",
    "    \n",
    "#----------fin des fonctions---------\n",
    "i = 20\n",
    "n1=int(input(\"donne un 1er nombre\"))\n",
    "n2=int(input(\"donne un 2ème nombre\"))\n",
    "r = f(n1,n2)\n",
    "print(r)"
   ]
  },
  {
   "cell_type": "raw",
   "metadata": {},
   "source": [
    "Pour chacune des variables indiquer ci-dessous  si elle est globale ou locale et son type,  \n",
    "par exemple :\n",
    "n1 est globale, c'est un int  \n",
    "n2 ...\n",
    "r ...  \n",
    "i ...  \n",
    "x ...  \n",
    "y ...  \n",
    "z ...  \n",
    "h ... \n"
   ]
  },
  {
   "cell_type": "markdown",
   "metadata": {},
   "source": [
    "**Exerice 2 :** Corriger le script2 pour qu'il n'y ait plus d'erreur"
   ]
  },
  {
   "cell_type": "code",
   "execution_count": null,
   "metadata": {},
   "outputs": [],
   "source": [
    "#script2\n",
    "def ajouter_n(x:float)->float :\n",
    "    \"\"\"ajoute n à lui même puis au nombre x, retourne le résultat\"\"\"\n",
    "    n = n + n\n",
    "    z = x + n\n",
    "    return(z{\n",
    "\n",
    "#----------fin des fonctions---------\n",
    "n = 20\n",
    "print(ajouter_n(4.5))"
   ]
  },
  {
   "cell_type": "markdown",
   "metadata": {},
   "source": [
    "**Exercice 3 :** Les tuples \n",
    "Dans le script suivant la fonction statistiques() doit retourner un tuple composé de (moyenne des 3 nombres,somme des 3sombres ,produit des 3 nombres). A vous de la compléter pour que les assertions fonctionnent"
   ]
  },
  {
   "cell_type": "code",
   "execution_count": null,
   "metadata": {},
   "outputs": [],
   "source": [
    "def statistiques(x:int,y:int,z:int)->tuple:\n",
    "    \"\"\"renvoie le tuple composé de la moyenne, de la somme et du produit de x,y,z\"\"\"\n",
    "    moy=(x+y+z)/3\n",
    "    ...\n",
    "    ...\n",
    "    return \n",
    "\n",
    "#----------tests---------\n",
    "assert statistiques(3,3,3)==(3,9,27)\n",
    "assert statistiques(0,0,0)==(0,0,0)\n",
    "assert statistiques(1,2,3)==(2,6,6)\n",
    "assert statistiques(10,20,30)==(20,60,6000)\n"
   ]
  },
  {
   "cell_type": "markdown",
   "metadata": {},
   "source": [
    "**Exercice 4:** les listes  \n",
    "A partir de la liste donnée en exercice : \n",
    "1. Ajouter \"zebre\" à la fin de la liste\n",
    "2. Donner la longueur de la liste\n",
    "3. Supprimer \"boa\"\n",
    "4. Insérer un rang 3, le mot \"baleine\"\n",
    "5. Ajouter à la fin de la liste la liste suivante  \n",
    "[\"koala\",\"pigeon\",tapir\"]  \n",
    "6. Donner la longueur de la liste"
   ]
  },
  {
   "cell_type": "code",
   "execution_count": null,
   "metadata": {},
   "outputs": [],
   "source": [
    "liste=[\"araignée\",\"chameau\",\"tigre\",\"boa\",\"chèvre\",\"zébu\"]"
   ]
  },
  {
   "cell_type": "markdown",
   "metadata": {},
   "source": [
    "**Exercice 5:** les listes par compréhension  \n",
    "En suivant le modèle de la liste1 qui donne tous les nombres de la liste qui sont supérieurs à 10,  \n",
    "et le modèle de la liste2 qui donne tous les moitiés des nombres de la liste, créer :  \n",
    "1. la liste3 qui donne les nombres de la liste qui sont inférieurs à 44\n",
    "2. la liste4 qui donne les nombres la liste qui sont impairs\n",
    "3. la liste6 qui donne tous les nombres de la liste qui sont dans la table de 3\n",
    "4. la liste6 qui donne tous les triples des nombres de la liste \n",
    "5. la liste7 qui donne tous les nombres de la liste augmenté de 10"
   ]
  },
  {
   "cell_type": "code",
   "execution_count": null,
   "metadata": {},
   "outputs": [],
   "source": [
    "liste=[1,2,3,5,6,8,9,10,12,16,18,22,24,69,70,71,72,100,120,125,156]\n",
    "\n",
    "liste1=[elt for elt in liste if elt>=10]\n",
    "liste2=[elt/2 for elt in liste]\n",
    "\n",
    "print(liste1)\n",
    "print(liste2)"
   ]
  },
  {
   "cell_type": "markdown",
   "metadata": {},
   "source": [
    "**Exercice 6:** fonction et liste \n",
    "Ecrire une fonction, avec sa spécification, qui prend une liste de mots en paramètre et qui renvoie un compteur qui a compté le nombre de mots qui ont moins de 5 lettres  \n",
    "Le nombre de lettres d'un mot est donné par la fonction len()  \n"
   ]
  },
  {
   "cell_type": "code",
   "execution_count": null,
   "metadata": {},
   "outputs": [],
   "source": []
  }
 ],
 "metadata": {
  "kernelspec": {
   "display_name": "Python 3",
   "language": "python",
   "name": "python3"
  },
  "language_info": {
   "codemirror_mode": {
    "name": "ipython",
    "version": 3
   },
   "file_extension": ".py",
   "mimetype": "text/x-python",
   "name": "python",
   "nbconvert_exporter": "python",
   "pygments_lexer": "ipython3",
   "version": "3.7.3"
  }
 },
 "nbformat": 4,
 "nbformat_minor": 2
}
